{
 "cells": [
  {
   "cell_type": "code",
   "execution_count": 2,
   "metadata": {},
   "outputs": [],
   "source": [
    "import numpy as np\n",
    "import matplotlib\n",
    "import matplotlib.pylab as plt\n",
    "import torch\n",
    "import torch.nn as nn\n",
    "\n",
    "import os\n",
    "import sys  \n",
    "\n",
    "from utils import *\n",
    "\n",
    "%matplotlib inline"
   ]
  },
  {
   "cell_type": "code",
   "execution_count": 1,
   "metadata": {},
   "outputs": [],
   "source": [
    "import torch\n",
    "import os\n",
    "from skimage import io\n",
    "import pickle\n",
    "from torch.serialization import default_restore_location\n",
    "import argparse\n",
    "\n",
    "import models\n",
    "import utils"
   ]
  },
  {
   "cell_type": "code",
   "execution_count": 8,
   "metadata": {},
   "outputs": [],
   "source": [
    "import cv2"
   ]
  },
  {
   "cell_type": "code",
   "execution_count": 3,
   "metadata": {},
   "outputs": [],
   "source": [
    "from skimage.measure.simple_metrics import peak_signal_noise_ratio"
   ]
  },
  {
   "cell_type": "code",
   "execution_count": 23,
   "metadata": {},
   "outputs": [],
   "source": [
    "pretrained_base = './pretrained/'\n",
    "model = 'dncnn' \n",
    "min_noise = 0   # lower bound of training range \n",
    "max_noise = 30  # upper bound of training range \n",
    "DnCNN = load_model(os.path.join(pretrained_base, model, 'bias_free', 'checkpoint_last_bias.pt'))\n",
    "BF_DnCNN = load_model(os.path.join(pretrained_base, model, 'bias_free','checkpoint_last.pt'))\n",
    "# BF_DnCNN = load_model(os.path.join(pretrained_base, model, 'bias_free', 'checkpoint_last.pt'))"
   ]
  },
  {
   "cell_type": "code",
   "execution_count": 5,
   "metadata": {},
   "outputs": [],
   "source": [
    "def cal_psnr(clean, noisy):\n",
    "    \"\"\"Use skimage.meamsure.compare_ssim to calculate SSIM\n",
    "    Args:\n",
    "        clean (Tensor): (B, 1, H, W)\n",
    "        noisy (Tensor): (B, 1, H, W)\n",
    "        normalized (bool): If True, the range of tensors are [0., 1.]\n",
    "            else [0, 255]\n",
    "    Returns:\n",
    "        SSIM per image: (B, )\n",
    "    \"\"\"\n",
    "\n",
    "    clean = clean.cpu().detach().numpy().astype(np.float32)\n",
    "    noisy = noisy.cpu().detach().numpy().astype(np.float32)\n",
    "    return np.array([peak_signal_noise_ratio(c[0], n[0], data_range=255) for c, n in zip(clean, noisy)]).mean()"
   ]
  },
  {
   "cell_type": "code",
   "execution_count": 12,
   "metadata": {},
   "outputs": [],
   "source": [
    "def test(clean, noisy):\n",
    "    clean_im = cv2.imread('Set12/'+clean, 0)\n",
    "    noisy_im = cv2.imread('bfffd/'+noisy, 0)\n",
    "    noisy_im_tensor = torch.from_numpy(noisy_im).unsqueeze(0).unsqueeze(0).to(device).float()\n",
    "    clean_im_tensor = torch.from_numpy(clean_im).unsqueeze(0).unsqueeze(0).to(device).float()\n",
    "    \n",
    "    inp_test = noisy_im_tensor.clone();\n",
    "\n",
    "    denoised_dncnn= DnCNN(inp_test)\n",
    "    denoised_dncnn_psnr = np.round(cal_psnr(clean_im_tensor, denoised_dncnn), 2)\n",
    "#     denoised_dncnn_ssim = np.round(utils.ssim(clean_im_tensor, denoised_dncnn), 2)\n",
    "#     denoised_dncnn = denoised_dncnn.cpu().data.squeeze(0).squeeze(0).numpy()\n",
    "    denoised_dncnn = denoised_dncnn.cpu().data.squeeze(0).squeeze(0).numpy()\n",
    "    \n",
    "\n",
    "    denoised_bf_dncnn= BF_DnCNN(inp_test)\n",
    "    denoised_bf_dncnn_psnr = np.round(cal_psnr(clean_im_tensor, denoised_bf_dncnn), 2)\n",
    "#     denoised_bf_dncnn_ssim = np.round(utils.ssim(clean_im_tensor, denoised_bf_dncnn), 2)\n",
    "#     denoised_bf_dncnn = denoised_bf_dncnn.cpu().data.squeeze(0).squeeze(0).numpy()\n",
    "    denoised_bf_dncnn = denoised_bf_dncnn.cpu().data.squeeze(0).squeeze(0).numpy()\n",
    "    cv2.imwrite('savedImages2/dncnn-deno-'+noisy,denoised_dncnn)\n",
    "    cv2.imwrite('savedImages2/bf-dncnn-deno-'+noisy,denoised_bf_dncnn)\n",
    "    return np.array([denoised_dncnn_psnr,denoised_bf_dncnn_psnr])"
   ]
  },
  {
   "cell_type": "code",
   "execution_count": 27,
   "metadata": {},
   "outputs": [],
   "source": [
    "def test2(clean, noise_level):\n",
    "    clean_im = cv2.imread('Set12/'+clean, 0)\n",
    "    clean_im_tensor = torch.from_numpy(clean_im).unsqueeze(0).unsqueeze(0).to(device).float()\n",
    "\n",
    "    noise = utils.get_noise(clean_im_tensor, noise_std = noise_level/255., mode='S')\n",
    "    inp_test = clean_im_tensor + noise;\n",
    "    noisy_psnr = np.round(utils.psnr(clean_im_tensor, inp_test), 2)\n",
    "    noisy_ssim = np.round(utils.ssim(clean_im_tensor, inp_test), 2)\n",
    "\n",
    "    denoised_dncnn= DnCNN(inp_test)\n",
    "    denoised_dncnn_psnr = np.round(cal_psnr(clean_im_tensor, denoised_dncnn), 2)\n",
    "#     denoised_dncnn_psnr = np.round(utils.psnr(clean_im_tensor, denoised_dncnn), 2)\n",
    "#     denoised_dncnn_ssim = np.round(utils.ssim(clean_im_tensor, denoised_dncnn), 2)\n",
    "    denoised_dncnn = denoised_dncnn.cpu().data.squeeze(0).squeeze(0).numpy()\n",
    "\n",
    "    denoised_bf_dncnn= BF_DnCNN(inp_test)\n",
    "    denoised_bf_dncnn_psnr = np.round(cal_psnr(clean_im_tensor, denoised_bf_dncnn), 2)\n",
    "#     denoised_bf_dncnn_psnr = np.round(utils.psnr(clean_im_tensor, denoised_bf_dncnn), 2)\n",
    "#     denoised_bf_dncnn_ssim = np.round(utils.ssim(clean_im_tensor, denoised_bf_dncnn), 2)\n",
    "    denoised_bf_dncnn = denoised_bf_dncnn.cpu().data.squeeze(0).squeeze(0).numpy()\n",
    "    noisy_im = inp_test.cpu().data.squeeze(0).squeeze(0).numpy()\n",
    "    cv2.imwrite('savedImages2/dncnn-deno-'+str(int(noise_level))+'-'+clean,denoised_dncnn)\n",
    "    cv2.imwrite('savedImages2/bf-dncnn-deno-'+str(int(noise_level))+'-'+clean,denoised_bf_dncnn)\n",
    "    return np.array([denoised_dncnn_psnr,denoised_bf_dncnn_psnr])"
   ]
  },
  {
   "cell_type": "code",
   "execution_count": 28,
   "metadata": {},
   "outputs": [
    {
     "ename": "KeyboardInterrupt",
     "evalue": "",
     "output_type": "error",
     "traceback": [
      "\u001b[0;31m---------------------------------------------------------------------------\u001b[0m",
      "\u001b[0;31mKeyboardInterrupt\u001b[0m                         Traceback (most recent call last)",
      "\u001b[0;32m<ipython-input-28-e857d74eae1c>\u001b[0m in \u001b[0;36m<module>\u001b[0;34m\u001b[0m\n\u001b[1;32m      7\u001b[0m     \u001b[0;32mfor\u001b[0m \u001b[0mj\u001b[0m \u001b[0;32min\u001b[0m \u001b[0mrange\u001b[0m\u001b[0;34m(\u001b[0m\u001b[0;36m7\u001b[0m\u001b[0;34m)\u001b[0m\u001b[0;34m:\u001b[0m\u001b[0;34m\u001b[0m\u001b[0;34m\u001b[0m\u001b[0m\n\u001b[1;32m      8\u001b[0m \u001b[0;31m#         noisy = 'noisy-'+data2[j]+'-'+data1[i]+'.png'\u001b[0m\u001b[0;34m\u001b[0m\u001b[0;34m\u001b[0m\u001b[0;34m\u001b[0m\u001b[0m\n\u001b[0;32m----> 9\u001b[0;31m         \u001b[0mrecord\u001b[0m\u001b[0;34m[\u001b[0m\u001b[0mi\u001b[0m\u001b[0;34m,\u001b[0m\u001b[0mj\u001b[0m\u001b[0;34m,\u001b[0m\u001b[0;34m:\u001b[0m\u001b[0;34m]\u001b[0m \u001b[0;34m=\u001b[0m \u001b[0mtest2\u001b[0m\u001b[0;34m(\u001b[0m\u001b[0mclean\u001b[0m\u001b[0;34m,\u001b[0m\u001b[0mdata2\u001b[0m\u001b[0;34m[\u001b[0m\u001b[0mj\u001b[0m\u001b[0;34m]\u001b[0m\u001b[0;34m)\u001b[0m\u001b[0;34m\u001b[0m\u001b[0;34m\u001b[0m\u001b[0m\n\u001b[0m",
      "\u001b[0;32m<ipython-input-27-1fd25326f2f3>\u001b[0m in \u001b[0;36mtest2\u001b[0;34m(clean, noise_level)\u001b[0m\n\u001b[1;32m     14\u001b[0m     \u001b[0mdenoised_dncnn\u001b[0m \u001b[0;34m=\u001b[0m \u001b[0mdenoised_dncnn\u001b[0m\u001b[0;34m.\u001b[0m\u001b[0mcpu\u001b[0m\u001b[0;34m(\u001b[0m\u001b[0;34m)\u001b[0m\u001b[0;34m.\u001b[0m\u001b[0mdata\u001b[0m\u001b[0;34m.\u001b[0m\u001b[0msqueeze\u001b[0m\u001b[0;34m(\u001b[0m\u001b[0;36m0\u001b[0m\u001b[0;34m)\u001b[0m\u001b[0;34m.\u001b[0m\u001b[0msqueeze\u001b[0m\u001b[0;34m(\u001b[0m\u001b[0;36m0\u001b[0m\u001b[0;34m)\u001b[0m\u001b[0;34m.\u001b[0m\u001b[0mnumpy\u001b[0m\u001b[0;34m(\u001b[0m\u001b[0;34m)\u001b[0m\u001b[0;34m\u001b[0m\u001b[0;34m\u001b[0m\u001b[0m\n\u001b[1;32m     15\u001b[0m \u001b[0;34m\u001b[0m\u001b[0m\n\u001b[0;32m---> 16\u001b[0;31m     \u001b[0mdenoised_bf_dncnn\u001b[0m\u001b[0;34m=\u001b[0m \u001b[0mBF_DnCNN\u001b[0m\u001b[0;34m(\u001b[0m\u001b[0minp_test\u001b[0m\u001b[0;34m)\u001b[0m\u001b[0;34m\u001b[0m\u001b[0;34m\u001b[0m\u001b[0m\n\u001b[0m\u001b[1;32m     17\u001b[0m     \u001b[0mdenoised_bf_dncnn_psnr\u001b[0m \u001b[0;34m=\u001b[0m \u001b[0mnp\u001b[0m\u001b[0;34m.\u001b[0m\u001b[0mround\u001b[0m\u001b[0;34m(\u001b[0m\u001b[0mcal_psnr\u001b[0m\u001b[0;34m(\u001b[0m\u001b[0mclean_im_tensor\u001b[0m\u001b[0;34m,\u001b[0m \u001b[0mdenoised_bf_dncnn\u001b[0m\u001b[0;34m)\u001b[0m\u001b[0;34m,\u001b[0m \u001b[0;36m2\u001b[0m\u001b[0;34m)\u001b[0m\u001b[0;34m\u001b[0m\u001b[0;34m\u001b[0m\u001b[0m\n\u001b[1;32m     18\u001b[0m \u001b[0;31m#     denoised_bf_dncnn_psnr = np.round(utils.psnr(clean_im_tensor, denoised_bf_dncnn), 2)\u001b[0m\u001b[0;34m\u001b[0m\u001b[0;34m\u001b[0m\u001b[0;34m\u001b[0m\u001b[0m\n",
      "\u001b[0;32m~/opt/anaconda3/lib/python3.8/site-packages/torch/nn/modules/module.py\u001b[0m in \u001b[0;36m_call_impl\u001b[0;34m(self, *input, **kwargs)\u001b[0m\n\u001b[1;32m    725\u001b[0m             \u001b[0mresult\u001b[0m \u001b[0;34m=\u001b[0m \u001b[0mself\u001b[0m\u001b[0;34m.\u001b[0m\u001b[0m_slow_forward\u001b[0m\u001b[0;34m(\u001b[0m\u001b[0;34m*\u001b[0m\u001b[0minput\u001b[0m\u001b[0;34m,\u001b[0m \u001b[0;34m**\u001b[0m\u001b[0mkwargs\u001b[0m\u001b[0;34m)\u001b[0m\u001b[0;34m\u001b[0m\u001b[0;34m\u001b[0m\u001b[0m\n\u001b[1;32m    726\u001b[0m         \u001b[0;32melse\u001b[0m\u001b[0;34m:\u001b[0m\u001b[0;34m\u001b[0m\u001b[0;34m\u001b[0m\u001b[0m\n\u001b[0;32m--> 727\u001b[0;31m             \u001b[0mresult\u001b[0m \u001b[0;34m=\u001b[0m \u001b[0mself\u001b[0m\u001b[0;34m.\u001b[0m\u001b[0mforward\u001b[0m\u001b[0;34m(\u001b[0m\u001b[0;34m*\u001b[0m\u001b[0minput\u001b[0m\u001b[0;34m,\u001b[0m \u001b[0;34m**\u001b[0m\u001b[0mkwargs\u001b[0m\u001b[0;34m)\u001b[0m\u001b[0;34m\u001b[0m\u001b[0;34m\u001b[0m\u001b[0m\n\u001b[0m\u001b[1;32m    728\u001b[0m         for hook in itertools.chain(\n\u001b[1;32m    729\u001b[0m                 \u001b[0m_global_forward_hooks\u001b[0m\u001b[0;34m.\u001b[0m\u001b[0mvalues\u001b[0m\u001b[0;34m(\u001b[0m\u001b[0;34m)\u001b[0m\u001b[0;34m,\u001b[0m\u001b[0;34m\u001b[0m\u001b[0;34m\u001b[0m\u001b[0m\n",
      "\u001b[0;32m~/Documents/IAV_Processing/Project/BFDnCNN/bias_free_denoising-master/models/dncnn.py\u001b[0m in \u001b[0;36mforward\u001b[0;34m(self, x)\u001b[0m\n\u001b[1;32m     57\u001b[0m \u001b[0;34m\u001b[0m\u001b[0m\n\u001b[1;32m     58\u001b[0m                 \u001b[0;32mfor\u001b[0m \u001b[0mi\u001b[0m \u001b[0;32min\u001b[0m \u001b[0mrange\u001b[0m\u001b[0;34m(\u001b[0m\u001b[0mself\u001b[0m\u001b[0;34m.\u001b[0m\u001b[0mdepth\u001b[0m\u001b[0;34m-\u001b[0m\u001b[0;36m2\u001b[0m\u001b[0;34m)\u001b[0m\u001b[0;34m:\u001b[0m\u001b[0;34m\u001b[0m\u001b[0;34m\u001b[0m\u001b[0m\n\u001b[0;32m---> 59\u001b[0;31m                         \u001b[0mout\u001b[0m \u001b[0;34m=\u001b[0m \u001b[0mself\u001b[0m\u001b[0;34m.\u001b[0m\u001b[0mhidden_layer_list\u001b[0m\u001b[0;34m[\u001b[0m\u001b[0mi\u001b[0m\u001b[0;34m]\u001b[0m\u001b[0;34m(\u001b[0m\u001b[0mout\u001b[0m\u001b[0;34m)\u001b[0m\u001b[0;34m;\u001b[0m\u001b[0;34m\u001b[0m\u001b[0;34m\u001b[0m\u001b[0m\n\u001b[0m\u001b[1;32m     60\u001b[0m                         \u001b[0mout\u001b[0m \u001b[0;34m=\u001b[0m \u001b[0mself\u001b[0m\u001b[0;34m.\u001b[0m\u001b[0mbn_layer_list\u001b[0m\u001b[0;34m[\u001b[0m\u001b[0mi\u001b[0m\u001b[0;34m]\u001b[0m\u001b[0;34m(\u001b[0m\u001b[0mout\u001b[0m\u001b[0;34m)\u001b[0m\u001b[0;34m;\u001b[0m\u001b[0;34m\u001b[0m\u001b[0;34m\u001b[0m\u001b[0m\n\u001b[1;32m     61\u001b[0m                         \u001b[0mout\u001b[0m \u001b[0;34m=\u001b[0m \u001b[0mF\u001b[0m\u001b[0;34m.\u001b[0m\u001b[0mrelu\u001b[0m\u001b[0;34m(\u001b[0m\u001b[0mout\u001b[0m\u001b[0;34m)\u001b[0m\u001b[0;34m\u001b[0m\u001b[0;34m\u001b[0m\u001b[0m\n",
      "\u001b[0;32m~/opt/anaconda3/lib/python3.8/site-packages/torch/nn/modules/module.py\u001b[0m in \u001b[0;36m_call_impl\u001b[0;34m(self, *input, **kwargs)\u001b[0m\n\u001b[1;32m    725\u001b[0m             \u001b[0mresult\u001b[0m \u001b[0;34m=\u001b[0m \u001b[0mself\u001b[0m\u001b[0;34m.\u001b[0m\u001b[0m_slow_forward\u001b[0m\u001b[0;34m(\u001b[0m\u001b[0;34m*\u001b[0m\u001b[0minput\u001b[0m\u001b[0;34m,\u001b[0m \u001b[0;34m**\u001b[0m\u001b[0mkwargs\u001b[0m\u001b[0;34m)\u001b[0m\u001b[0;34m\u001b[0m\u001b[0;34m\u001b[0m\u001b[0m\n\u001b[1;32m    726\u001b[0m         \u001b[0;32melse\u001b[0m\u001b[0;34m:\u001b[0m\u001b[0;34m\u001b[0m\u001b[0;34m\u001b[0m\u001b[0m\n\u001b[0;32m--> 727\u001b[0;31m             \u001b[0mresult\u001b[0m \u001b[0;34m=\u001b[0m \u001b[0mself\u001b[0m\u001b[0;34m.\u001b[0m\u001b[0mforward\u001b[0m\u001b[0;34m(\u001b[0m\u001b[0;34m*\u001b[0m\u001b[0minput\u001b[0m\u001b[0;34m,\u001b[0m \u001b[0;34m**\u001b[0m\u001b[0mkwargs\u001b[0m\u001b[0;34m)\u001b[0m\u001b[0;34m\u001b[0m\u001b[0;34m\u001b[0m\u001b[0m\n\u001b[0m\u001b[1;32m    728\u001b[0m         for hook in itertools.chain(\n\u001b[1;32m    729\u001b[0m                 \u001b[0m_global_forward_hooks\u001b[0m\u001b[0;34m.\u001b[0m\u001b[0mvalues\u001b[0m\u001b[0;34m(\u001b[0m\u001b[0;34m)\u001b[0m\u001b[0;34m,\u001b[0m\u001b[0;34m\u001b[0m\u001b[0;34m\u001b[0m\u001b[0m\n",
      "\u001b[0;32m~/opt/anaconda3/lib/python3.8/site-packages/torch/nn/modules/conv.py\u001b[0m in \u001b[0;36mforward\u001b[0;34m(self, input)\u001b[0m\n\u001b[1;32m    421\u001b[0m \u001b[0;34m\u001b[0m\u001b[0m\n\u001b[1;32m    422\u001b[0m     \u001b[0;32mdef\u001b[0m \u001b[0mforward\u001b[0m\u001b[0;34m(\u001b[0m\u001b[0mself\u001b[0m\u001b[0;34m,\u001b[0m \u001b[0minput\u001b[0m\u001b[0;34m:\u001b[0m \u001b[0mTensor\u001b[0m\u001b[0;34m)\u001b[0m \u001b[0;34m->\u001b[0m \u001b[0mTensor\u001b[0m\u001b[0;34m:\u001b[0m\u001b[0;34m\u001b[0m\u001b[0;34m\u001b[0m\u001b[0m\n\u001b[0;32m--> 423\u001b[0;31m         \u001b[0;32mreturn\u001b[0m \u001b[0mself\u001b[0m\u001b[0;34m.\u001b[0m\u001b[0m_conv_forward\u001b[0m\u001b[0;34m(\u001b[0m\u001b[0minput\u001b[0m\u001b[0;34m,\u001b[0m \u001b[0mself\u001b[0m\u001b[0;34m.\u001b[0m\u001b[0mweight\u001b[0m\u001b[0;34m)\u001b[0m\u001b[0;34m\u001b[0m\u001b[0;34m\u001b[0m\u001b[0m\n\u001b[0m\u001b[1;32m    424\u001b[0m \u001b[0;34m\u001b[0m\u001b[0m\n\u001b[1;32m    425\u001b[0m \u001b[0;32mclass\u001b[0m \u001b[0mConv3d\u001b[0m\u001b[0;34m(\u001b[0m\u001b[0m_ConvNd\u001b[0m\u001b[0;34m)\u001b[0m\u001b[0;34m:\u001b[0m\u001b[0;34m\u001b[0m\u001b[0;34m\u001b[0m\u001b[0m\n",
      "\u001b[0;32m~/opt/anaconda3/lib/python3.8/site-packages/torch/nn/modules/conv.py\u001b[0m in \u001b[0;36m_conv_forward\u001b[0;34m(self, input, weight)\u001b[0m\n\u001b[1;32m    417\u001b[0m                             \u001b[0mweight\u001b[0m\u001b[0;34m,\u001b[0m \u001b[0mself\u001b[0m\u001b[0;34m.\u001b[0m\u001b[0mbias\u001b[0m\u001b[0;34m,\u001b[0m \u001b[0mself\u001b[0m\u001b[0;34m.\u001b[0m\u001b[0mstride\u001b[0m\u001b[0;34m,\u001b[0m\u001b[0;34m\u001b[0m\u001b[0;34m\u001b[0m\u001b[0m\n\u001b[1;32m    418\u001b[0m                             _pair(0), self.dilation, self.groups)\n\u001b[0;32m--> 419\u001b[0;31m         return F.conv2d(input, weight, self.bias, self.stride,\n\u001b[0m\u001b[1;32m    420\u001b[0m                         self.padding, self.dilation, self.groups)\n\u001b[1;32m    421\u001b[0m \u001b[0;34m\u001b[0m\u001b[0m\n",
      "\u001b[0;31mKeyboardInterrupt\u001b[0m: "
     ]
    }
   ],
   "source": [
    "\n",
    "record = np.zeros((7,7,2))\n",
    "data1 = ['01','02','03','04','05','06','07']\n",
    "# data2 = ['5','10','20','30','50','70','100']\n",
    "data2 = [5,10,20,30,50,70,100]\n",
    "for i in range(7):\n",
    "    clean = data1[i]+'.png'\n",
    "    for j in range(7):\n",
    "#         noisy = 'noisy-'+data2[j]+'-'+data1[i]+'.png'\n",
    "        record[i,j,:] = test2(clean,data2[j])"
   ]
  },
  {
   "cell_type": "code",
   "execution_count": 18,
   "metadata": {},
   "outputs": [],
   "source": [
    "bf_dncnn_deno_psnr = record[:,:,1]\n",
    "dncnn_deno_psnr = record[:,:,0]"
   ]
  },
  {
   "cell_type": "code",
   "execution_count": 19,
   "metadata": {},
   "outputs": [
    {
     "name": "stdout",
     "output_type": "stream",
     "text": [
      "[[11.94 11.85 11.53 11.01  9.45  8.02  6.48]\n",
      " [11.41 11.33 11.04 10.47  8.87  7.46  5.96]\n",
      " [12.02 11.94 11.57 10.92  9.27  7.78  6.39]\n",
      " [11.76 11.68 11.3  10.69  9.17  7.86  6.42]\n",
      " [12.36 12.26 11.85 11.11  9.45  8.09  6.73]\n",
      " [ 9.36  9.3   9.12  8.79  7.82  6.71  5.18]\n",
      " [12.33 12.23 11.86 11.24  9.67  8.22  6.82]]\n",
      "[[22.11 21.34 19.1  16.97 13.63 11.53  9.46]\n",
      " [21.9  21.06 18.74 16.44 13.14 11.01  9.08]\n",
      " [22.35 21.44 18.99 16.7  13.4  11.22  9.34]\n",
      " [21.67 20.9  18.68 16.55 13.34 11.3   9.36]\n",
      " [22.14 21.27 18.88 16.63 13.42 11.41  9.53]\n",
      " [19.83 19.3  17.65 15.86 12.99 10.93  8.85]\n",
      " [22.12 21.31 19.17 17.01 13.81 11.57  9.64]]\n"
     ]
    }
   ],
   "source": [
    "print(bf_dncnn_deno_psnr)\n",
    "print(dncnn_deno_psnr)"
   ]
  },
  {
   "cell_type": "code",
   "execution_count": 20,
   "metadata": {},
   "outputs": [],
   "source": [
    "bf_ffd_noisy_psnr = np.array([[34.14,28.16,22.11,18.61,14.16,11.29,8.15],\n",
    "                    [34.16,28.12,22.1,18.59,14.18,11.25,8.12],\n",
    "                    [34.16,28.15,22.1,18.59,14.19,11.18,8.15],\n",
    "                    [34.17,28.11,22.11,18.57,14.1,11.21,8.13],\n",
    "                    [34.19,28.15,22.11,18.59,14.14,11.23,8.14],\n",
    "                    [34.15,28.1,22.1,18.61,14.15,11.21,8.15],\n",
    "                    [34.21,28.11,22.2,18.6,14.14,11.18,8.13]],dtype=np.float)\n",
    "bf_ffd_deno_psnr = np.array([[38.46,34.57,31.07,29.23,25.44,20.21,15.02],\n",
    "                   [39.69,36.59,33.93,32.24,27.24,20.54,15.01],\n",
    "                   [38.28,34.98,31.87,30,25.58,19.85,14.84],\n",
    "                   [38.11,34.28,30.54,28.3,24.42,19.55,14.76],\n",
    "                   [39.09,35.31,31.55,29.4,25.14,19.8,14.78],\n",
    "                   [37.76,33.81,30.16,28.28,24.61,19.72,15.2],\n",
    "                   [38.18,34.05,30.54,28.66,25.17,19.92,15.09]],dtype=np.float)"
   ]
  },
  {
   "cell_type": "code",
   "execution_count": 21,
   "metadata": {},
   "outputs": [],
   "source": [
    "bf_dncnn_psnr = np.average(bf_dncnn_deno_psnr,axis=0)\n",
    "dncnn_psnr = np.average(dncnn_deno_psnr,axis=0)\n",
    "bf_ffd_psnr = np.average(bf_ffd_deno_psnr,axis=0)\n",
    "noisy = np.average(bf_ffd_noisy_psnr,axis=0)"
   ]
  },
  {
   "cell_type": "code",
   "execution_count": 22,
   "metadata": {},
   "outputs": [
    {
     "data": {
      "image/png": "[encoded data removed]",
      "text/plain": [
       "<Figure size 1080x360 with 1 Axes>"
      ]
     },
     "metadata": {
      "needs_background": "light"
     },
     "output_type": "display_data"
    }
   ],
   "source": [
    "fig = plt.figure()\n",
    "fig.set_figheight(5)\n",
    "fig.set_figwidth(15)\n",
    "n = [5,10,20,30,50,70,100]\n",
    "color2 = 'tab:green'\n",
    "color3 = 'tab:red'\n",
    "plt.xlabel('Noise Level')\n",
    "plt.ylabel('PSNR')\n",
    "plt.xlim([0,105])\n",
    "plt.ylim([0,40])\n",
    "plt.plot(n, dncnn_psnr, marker='o', color='b')\n",
    "plt.plot(n, bf_dncnn_psnr, marker='o', color=color2)\n",
    "plt.plot(n, bf_ffd_psnr, marker='o', color=color3)\n",
    "plt.plot(n, noisy, marker='o', color='k')\n",
    "plt.stem([30],[40],'-.',markerfmt=\" \")\n",
    "plt.legend(['DnCNN', 'BF-DnCNN', 'FFDNet','Noisy Image'])\n",
    "plt.show()"
   ]
  },
  {
   "cell_type": "code",
   "execution_count": 173,
   "metadata": {},
   "outputs": [
    {
     "data": {
      "text/plain": [
       "array([37.71      , 34.42857143, 31.20714286, 29.16714286, 26.18857143,\n",
       "       23.69      , 20.85571429])"
      ]
     },
     "execution_count": 173,
     "metadata": {},
     "output_type": "execute_result"
    }
   ],
   "source": [
    "bf_dncnn_psnr"
   ]
  },
  {
   "cell_type": "code",
   "execution_count": null,
   "metadata": {},
   "outputs": [],
   "source": []
  }
 ],
 "metadata": {
  "kernelspec": {
   "display_name": "Python 3",
   "language": "python",
   "name": "python3"
  },
  "language_info": {
   "codemirror_mode": {
    "name": "ipython",
    "version": 3
   },
   "file_extension": ".py",
   "mimetype": "text/x-python",
   "name": "python",
   "nbconvert_exporter": "python",
   "pygments_lexer": "ipython3",
   "version": "3.8.5"
  }
 },
 "nbformat": 4,
 "nbformat_minor": 4
}
