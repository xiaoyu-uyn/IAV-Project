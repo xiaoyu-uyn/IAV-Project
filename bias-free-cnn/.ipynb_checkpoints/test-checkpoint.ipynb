{
 "cells": [
  {
   "cell_type": "code",
   "execution_count": 2,
   "metadata": {},
   "outputs": [],
   "source": [
    "import numpy as np\n",
    "import matplotlib\n",
    "import matplotlib.pylab as plt\n",
    "import torch\n",
    "import torch.nn as nn\n",
    "\n",
    "import os\n",
    "import sys  \n",
    "\n",
    "from utils import *\n",
    "\n",
    "%matplotlib inline"
   ]
  },
  {
   "cell_type": "code",
   "execution_count": 8,
   "metadata": {},
   "outputs": [],
   "source": [
    "import torch\n",
    "import os\n",
    "from skimage import io\n",
    "import pickle\n",
    "from torch.serialization import default_restore_location\n",
    "import argparse\n",
    "\n",
    "import models\n",
    "import utils"
   ]
  },
  {
   "cell_type": "code",
   "execution_count": 53,
   "metadata": {},
   "outputs": [],
   "source": [
    "from skimage.measure.simple_metrics import peak_signal_noise_ratio"
   ]
  },
  {
   "cell_type": "code",
   "execution_count": 145,
   "metadata": {},
   "outputs": [],
   "source": [
    "pretrained_base = './pretrained/'\n",
    "model = 'dncnn' \n",
    "min_noise = 0   # lower bound of training range \n",
    "max_noise = 30  # upper bound of training range \n",
    "DnCNN = load_model(os.path.join(pretrained_base, model, 'bias', str(min_noise)+'-'+str(max_noise)+'.pt'))\n",
    "BF_DnCNN = load_model(os.path.join(pretrained_base, model, 'bias_free', str(min_noise)+'-'+str(max_noise)+'.pt'))\n",
    "# BF_DnCNN = load_model(os.path.join(pretrained_base, model, 'bias_free', 'checkpoint_last.pt'))"
   ]
  },
  {
   "cell_type": "code",
   "execution_count": 113,
   "metadata": {},
   "outputs": [],
   "source": [
    "def cal_psnr(clean, noisy):\n",
    "    \"\"\"Use skimage.meamsure.compare_ssim to calculate SSIM\n",
    "    Args:\n",
    "        clean (Tensor): (B, 1, H, W)\n",
    "        noisy (Tensor): (B, 1, H, W)\n",
    "        normalized (bool): If True, the range of tensors are [0., 1.]\n",
    "            else [0, 255]\n",
    "    Returns:\n",
    "        SSIM per image: (B, )\n",
    "    \"\"\"\n",
    "\n",
    "    clean = clean.cpu().detach().numpy().astype(np.float32)\n",
    "    noisy = noisy.cpu().detach().numpy().astype(np.float32)\n",
    "    return np.array([peak_signal_noise_ratio(c[0], n[0], data_range=255) for c, n in zip(clean, noisy)]).mean()"
   ]
  },
  {
   "cell_type": "code",
   "execution_count": 165,
   "metadata": {},
   "outputs": [],
   "source": [
    "def test(clean, noisy):\n",
    "    clean_im = cv2.imread('Set12/'+clean, 0)\n",
    "    noisy_im = cv2.imread('bfffd/'+noisy, 0)\n",
    "    noisy_im_tensor = torch.from_numpy(noisy_im).unsqueeze(0).unsqueeze(0).to(device).float()\n",
    "    clean_im_tensor = torch.from_numpy(clean_im).unsqueeze(0).unsqueeze(0).to(device).float()\n",
    "    \n",
    "    inp_test = noisy_im_tensor.clone();\n",
    "\n",
    "    denoised_dncnn= DnCNN(inp_test)\n",
    "    denoised_dncnn_psnr = np.round(cal_psnr(clean_im_tensor, denoised_dncnn), 2)\n",
    "#     denoised_dncnn_ssim = np.round(utils.ssim(clean_im_tensor, denoised_dncnn), 2)\n",
    "#     denoised_dncnn = denoised_dncnn.cpu().data.squeeze(0).squeeze(0).numpy()\n",
    "    \n",
    "\n",
    "    denoised_bf_dncnn= BF_DnCNN(inp_test)\n",
    "    denoised_bf_dncnn_psnr = np.round(cal_psnr(clean_im_tensor, denoised_bf_dncnn), 2)\n",
    "#     denoised_bf_dncnn_ssim = np.round(utils.ssim(clean_im_tensor, denoised_bf_dncnn), 2)\n",
    "#     denoised_bf_dncnn = denoised_bf_dncnn.cpu().data.squeeze(0).squeeze(0).numpy()\n",
    "\n",
    "#     cv2.imwrite('savedImages/dncnn-deno-'+noisy,denoised_dncnn)\n",
    "#     cv2.imwrite('savedImages/bf-dncnn-deno-'+noisy,denoised_bf_dncnn)\n",
    "    return np.array([denoised_dncnn_psnr,denoised_bf_dncnn_psnr])"
   ]
  },
  {
   "cell_type": "code",
   "execution_count": null,
   "metadata": {},
   "outputs": [],
   "source": [
    "\n",
    "record = np.zeros((7,7,2))\n",
    "data1 = ['01','02','03','04','05','06','07']\n",
    "data2 = ['5','10','20','30','50','70','100']\n",
    "for i in range(7):\n",
    "    clean = data1[i]+'.png'\n",
    "    for j in range(7):\n",
    "        noisy = 'noisy-'+data2[j]+'-'+data1[i]+'.png'\n",
    "        record[i,j,:] = test(clean,noisy)"
   ]
  },
  {
   "cell_type": "code",
   "execution_count": 155,
   "metadata": {},
   "outputs": [],
   "source": [
    "bf_dncnn_deno_psnr = record[:,:,1]\n",
    "dncnn_deno_psnr = record[:,:,0]"
   ]
  },
  {
   "cell_type": "code",
   "execution_count": 158,
   "metadata": {},
   "outputs": [
    {
     "name": "stdout",
     "output_type": "stream",
     "text": [
      "[[40.13 40.13 40.13 40.12 40.09 40.07 40.08]\n",
      " [50.66 50.65 50.64 50.54 50.45 50.12 49.71]\n",
      " [42.93 42.93 42.93 42.92 42.89 42.86 42.8 ]\n",
      " [53.33 53.31 53.26 53.12 52.81 52.44 51.61]\n",
      " [52.82 52.81 52.77 52.63 52.37 52.08 51.26]\n",
      " [43.35 43.35 43.35 43.33 43.3  43.29 43.17]\n",
      " [43.67 43.67 43.67 43.65 43.62 43.56 43.43]]\n",
      "[[22.59 22.59 22.59 22.59 22.59 22.59 22.59]\n",
      " [22.4  22.4  22.4  22.4  22.4  22.4  22.39]\n",
      " [22.86 22.86 22.86 22.86 22.85 22.86 22.85]\n",
      " [22.13 22.13 22.13 22.13 22.13 22.13 22.13]\n",
      " [22.65 22.65 22.64 22.64 22.64 22.64 22.64]\n",
      " [20.16 20.16 20.16 20.16 20.16 20.16 20.16]\n",
      " [22.6  22.6  22.6  22.6  22.6  22.6  22.6 ]]\n"
     ]
    }
   ],
   "source": [
    "print(bf_dncnn_deno_psnr)\n",
    "print(dncnn_deno_psnr)"
   ]
  },
  {
   "cell_type": "code",
   "execution_count": 159,
   "metadata": {},
   "outputs": [],
   "source": [
    "bf_ffd_noisy_psnr = np.array([[34.14,28.16,22.11,18.61,14.16,11.29,8.15],\n",
    "                    [34.16,28.12,22.1,18.59,14.18,11.25,8.12],\n",
    "                    [34.16,28.15,22.1,18.59,14.19,11.18,8.15],\n",
    "                    [34.17,28.11,22.11,18.57,14.1,11.21,8.13],\n",
    "                    [34.19,28.15,22.11,18.59,14.14,11.23,8.14],\n",
    "                    [34.15,28.1,22.1,18.61,14.15,11.21,8.15],\n",
    "                    [34.21,28.11,22.2,18.6,14.14,11.18,8.13]],dtype=np.float)\n",
    "bf_ffd_deno_psnr = np.array([[38.46,34.57,31.07,29.23,25.44,20.21,15.02],\n",
    "                   [39.69,36.59,33.93,32.24,27.24,20.54,15.01],\n",
    "                   [38.28,34.98,31.87,30,25.58,19.85,14.84],\n",
    "                   [38.11,34.28,30.54,28.3,24.42,19.55,14.76],\n",
    "                   [39.09,35.31,31.55,29.4,25.14,19.8,14.78],\n",
    "                   [37.76,33.81,30.16,28.28,24.61,19.72,15.2],\n",
    "                   [38.18,34.05,30.54,28.66,25.17,19.92,15.09]],dtype=np.float)"
   ]
  },
  {
   "cell_type": "code",
   "execution_count": 163,
   "metadata": {},
   "outputs": [],
   "source": [
    "bf_dncnn_psnr = np.average(bf_dncnn_deno_psnr,axis=1)\n",
    "dncnn_psnr = np.average(dncnn_deno_psnr,axis=1)\n",
    "bf_ffd_psnr = np.average(bf_ffd_deno_psnr,axis=0)\n",
    "noisy = np.average(bf_ffd_noisy_psnr,axis=0)"
   ]
  },
  {
   "cell_type": "code",
   "execution_count": 142,
   "metadata": {},
   "outputs": [
    {
     "data": {
      "text/plain": [
       "tensor([[ 0.5998, -3.7831, -1.1954],\n",
       "        [-4.6591, -1.2665, -2.2939],\n",
       "        [ 4.2320, -1.1049, -5.3759]])"
      ]
     },
     "execution_count": 142,
     "metadata": {},
     "output_type": "execute_result"
    }
   ],
   "source": [
    "torch.FloatTensor(np.zeros((3,3))).normal_(mean=0, std=5)"
   ]
  },
  {
   "cell_type": "code",
   "execution_count": 143,
   "metadata": {},
   "outputs": [
    {
     "data": {
      "text/plain": [
       "tensor([[-2.8444, 13.6483, -1.0120],\n",
       "        [-4.3918,  0.5728, -0.7067],\n",
       "        [-4.8679,  1.1500, -8.7756]])"
      ]
     },
     "execution_count": 143,
     "metadata": {},
     "output_type": "execute_result"
    }
   ],
   "source": [
    "torch.randn_like(torch.FloatTensor(np.zeros((3,3))))*5"
   ]
  },
  {
   "cell_type": "code",
   "execution_count": 164,
   "metadata": {},
   "outputs": [
    {
     "data": {
      "image/png": "[encoded data removed]",
      "text/plain": [
       "<Figure size 1080x360 with 1 Axes>"
      ]
     },
     "metadata": {
      "needs_background": "light"
     },
     "output_type": "display_data"
    }
   ],
   "source": [
    "fig = plt.figure()\n",
    "fig.set_figheight(5)\n",
    "fig.set_figwidth(15)\n",
    "n = [5,10,20,30,50,70,100]\n",
    "color = 'k'\n",
    "color2 = 'tab:green'\n",
    "color3 = 'tab:red'\n",
    "plt.xlabel('Noise Level')\n",
    "plt.ylabel('PSNR')\n",
    "plt.xlim([0,105])\n",
    "plt.ylim([0,40])\n",
    "plt.plot(n, dncnn_psnr, marker='o', color=color)\n",
    "plt.plot(n, bf_dncnn_psnr, marker='o', color=color2)\n",
    "plt.plot(n, bf_ffd_psnr, marker='o', color=color3)\n",
    "plt.plot(n, noisy, marker='o', color='b')\n",
    "plt.stem([30],[40],'-.',markerfmt=\" \")\n",
    "plt.legend(['DnCNN', 'BF-DnCNN', 'FFDNet','Noisy Image','Trainning Boarder,sigma 30'])\n",
    "plt.show()"
   ]
  },
  {
   "cell_type": "code",
   "execution_count": 162,
   "metadata": {},
   "outputs": [
    {
     "data": {
      "text/plain": [
       "array([46.69857143, 46.69285714, 46.67857143, 46.61571429, 46.50428571,\n",
       "       46.34571429, 46.00857143])"
      ]
     },
     "execution_count": 162,
     "metadata": {},
     "output_type": "execute_result"
    }
   ],
   "source": [
    "bf_dncnn_psnr"
   ]
  },
  {
   "cell_type": "code",
   "execution_count": null,
   "metadata": {},
   "outputs": [],
   "source": []
  }
 ],
 "metadata": {
  "kernelspec": {
   "display_name": "Python 3",
   "language": "python",
   "name": "python3"
  },
  "language_info": {
   "codemirror_mode": {
    "name": "ipython",
    "version": 3
   },
   "file_extension": ".py",
   "mimetype": "text/x-python",
   "name": "python",
   "nbconvert_exporter": "python",
   "pygments_lexer": "ipython3",
   "version": "3.8.5"
  }
 },
 "nbformat": 4,
 "nbformat_minor": 4
}
